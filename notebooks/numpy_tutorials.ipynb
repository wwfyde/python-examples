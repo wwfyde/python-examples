{
 "cells": [
  {
   "cell_type": "markdown",
   "source": [
    "# Numpy"
   ],
   "metadata": {
    "collapsed": false
   },
   "id": "231687c34b48b3cd"
  },
  {
   "cell_type": "code",
   "source": [
    "import numpy"
   ],
   "metadata": {
    "collapsed": false,
    "ExecuteTime": {
     "end_time": "2025-06-12T02:53:10.306995Z",
     "start_time": "2025-06-12T02:53:10.168413Z"
    }
   },
   "id": "d26690c063c137e1",
   "outputs": [],
   "execution_count": 2
  },
  {
   "cell_type": "markdown",
   "source": [
    "# Arrays"
   ],
   "metadata": {
    "collapsed": false
   },
   "id": "de04cf654c1824b2"
  },
  {
   "cell_type": "code",
   "source": [
    "numpy.ndarray([1, 2, 3, 4])"
   ],
   "metadata": {
    "collapsed": false,
    "ExecuteTime": {
     "end_time": "2025-06-12T02:53:13.437543Z",
     "start_time": "2025-06-12T02:53:13.431178Z"
    }
   },
   "id": "79c6162d995fc00",
   "outputs": [
    {
     "data": {
      "text/plain": [
       "array([[[[0., 0., 0., 0.],\n",
       "         [0., 0., 0., 0.],\n",
       "         [0., 0., 0., 0.]],\n",
       "\n",
       "        [[0., 0., 0., 0.],\n",
       "         [0., 0., 0., 0.],\n",
       "         [0., 0., 0., 0.]]]])"
      ]
     },
     "execution_count": 4,
     "metadata": {},
     "output_type": "execute_result"
    }
   ],
   "execution_count": 4
  },
  {
   "cell_type": "markdown",
   "source": [],
   "metadata": {
    "collapsed": false
   },
   "id": "723c5db5c0e81caa"
  },
  {
   "cell_type": "markdown",
   "source": [
    "## array"
   ],
   "metadata": {
    "collapsed": false
   },
   "id": "98f4f00be40a5224"
  },
  {
   "cell_type": "code",
   "source": [
    "deep_array = numpy.array([[1, 2, 3], [4, 5, 6], [7, 8, 9]], dtype=numpy.float32)\n"
   ],
   "metadata": {
    "collapsed": false,
    "ExecuteTime": {
     "end_time": "2025-06-12T02:53:16.193503Z",
     "start_time": "2025-06-12T02:53:16.189671Z"
    }
   },
   "id": "c6a42cdc6edd49b",
   "outputs": [],
   "execution_count": 5
  },
  {
   "cell_type": "markdown",
   "source": [
    "## asarray"
   ],
   "metadata": {
    "collapsed": false
   },
   "id": "9f897e0b8612ff52"
  },
  {
   "cell_type": "code",
   "execution_count": 13,
   "outputs": [],
   "source": [],
   "metadata": {
    "collapsed": false,
    "ExecuteTime": {
     "end_time": "2023-11-13T11:26:09.553910Z",
     "start_time": "2023-11-13T11:26:09.540826Z"
    }
   },
   "id": "b6ae6a53ee6511bb"
  },
  {
   "cell_type": "markdown",
   "source": [
    "## ndarray"
   ],
   "metadata": {
    "collapsed": false
   },
   "id": "e9a2d635af673aa6"
  },
  {
   "cell_type": "code",
   "execution_count": null,
   "outputs": [],
   "source": [],
   "metadata": {
    "collapsed": false
   },
   "id": "cfa65c73ab297b52"
  }
 ],
 "metadata": {
  "kernelspec": {
   "display_name": "Python 3",
   "language": "python",
   "name": "python3"
  },
  "language_info": {
   "codemirror_mode": {
    "name": "ipython",
    "version": 2
   },
   "file_extension": ".py",
   "mimetype": "text/x-python",
   "name": "python",
   "nbconvert_exporter": "python",
   "pygments_lexer": "ipython2",
   "version": "2.7.6"
  }
 },
 "nbformat": 4,
 "nbformat_minor": 5
}
