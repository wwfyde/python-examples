{
 "cells": [
  {
   "cell_type": "code",
   "execution_count": null,
   "id": "52f99cf8e8728d40",
   "metadata": {},
   "outputs": [],
   "source": []
  },
  {
   "cell_type": "markdown",
   "id": "16888710a35bed22",
   "metadata": {},
   "source": []
  },
  {
   "cell_type": "markdown",
   "id": "6387ba8bba5f6b19",
   "metadata": {},
   "source": [
    "##"
   ]
  },
  {
   "cell_type": "code",
   "execution_count": 3,
   "id": "2ec0117a8bc02b6c",
   "metadata": {
    "ExecuteTime": {
     "end_time": "2024-08-30T02:27:37.591758Z",
     "start_time": "2024-08-30T02:27:35.581267Z"
    }
   },
   "outputs": [
    {
     "name": "stdout",
     "output_type": "stream",
     "text": [
      "Elapsed time: 2.0051862919935957 seconds\n"
     ]
    }
   ],
   "source": [
    "import time\n",
    "\n",
    "start_time = time.monotonic()\n",
    "\n",
    "# Perform some operations\n",
    "\n",
    "\n",
    "time.sleep(2)  # Simulate a delay\n",
    "\n",
    "end_time = time.monotonic()\n",
    "\n",
    "elapsed_time = end_time - start_time\n",
    "print(f\"Elapsed time: {elapsed_time} seconds\")\n"
   ]
  },
  {
   "cell_type": "code",
   "execution_count": null,
   "id": "bb58f641",
   "metadata": {},
   "outputs": [],
   "source": []
  }
 ],
 "metadata": {
  "kernelspec": {
   "display_name": "Python 3",
   "language": "python",
   "name": "python3"
  },
  "language_info": {
   "codemirror_mode": {
    "name": "ipython",
    "version": 3
   },
   "file_extension": ".py",
   "mimetype": "text/x-python",
   "name": "python",
   "nbconvert_exporter": "python",
   "pygments_lexer": "ipython3",
   "version": "3.12.6"
  }
 },
 "nbformat": 4,
 "nbformat_minor": 5
}
