{
 "cells": [
  {
   "cell_type": "code",
   "id": "initial_id",
   "metadata": {
    "collapsed": true,
    "ExecuteTime": {
     "end_time": "2025-04-28T06:11:48.634630Z",
     "start_time": "2025-04-28T06:11:48.632301Z"
    }
   },
   "source": [
    "import torch\n",
    "import torch.nn as nn\n",
    "\n",
    "s = torch.ones(3)\n"
   ],
   "outputs": [],
   "execution_count": 4
  },
  {
   "metadata": {
    "ExecuteTime": {
     "end_time": "2025-04-28T06:12:21.244863Z",
     "start_time": "2025-04-28T06:12:21.235309Z"
    }
   },
   "cell_type": "code",
   "source": [
    "s1 = nn.Parameter(torch.ones(3), requires_grad=False)\n",
    "print(s1)"
   ],
   "id": "a9276f1d34c58cb4",
   "outputs": [
    {
     "name": "stdout",
     "output_type": "stream",
     "text": [
      "Parameter containing:\n",
      "tensor([1., 1., 1.])\n"
     ]
    }
   ],
   "execution_count": 6
  },
  {
   "metadata": {
    "ExecuteTime": {
     "end_time": "2025-04-28T06:13:41.148224Z",
     "start_time": "2025-04-28T06:13:41.136195Z"
    }
   },
   "cell_type": "code",
   "source": "s2 = round(1.3 - 1 - 0.01, 4)",
   "id": "9a39194f8dd977ec",
   "outputs": [],
   "execution_count": 9
  }
 ],
 "metadata": {
  "kernelspec": {
   "display_name": "Python 3",
   "language": "python",
   "name": "python3"
  },
  "language_info": {
   "codemirror_mode": {
    "name": "ipython",
    "version": 2
   },
   "file_extension": ".py",
   "mimetype": "text/x-python",
   "name": "python",
   "nbconvert_exporter": "python",
   "pygments_lexer": "ipython2",
   "version": "2.7.6"
  }
 },
 "nbformat": 4,
 "nbformat_minor": 5
}
