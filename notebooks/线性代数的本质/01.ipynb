{
 "cells": [
  {
   "cell_type": "code",
   "id": "initial_id",
   "metadata": {
    "collapsed": true,
    "ExecuteTime": {
     "end_time": "2024-09-05T08:06:58.508511Z",
     "start_time": "2024-09-05T08:06:58.494955Z"
    }
   },
   "source": [
    "def vector_add(v: list, w: list) -> list:\n",
    "    \"\"\"adds corresponding elements\"\"\"\n",
    "    return [v[i] + w[i] for i in range(len(v))]\n",
    "\n",
    "\n",
    "print(vector_add([1, 2], [2, 1]))"
   ],
   "outputs": [
    {
     "name": "stdout",
     "output_type": "stream",
     "text": [
      "[3, 3]\n"
     ]
    }
   ],
   "execution_count": 5
  },
  {
   "metadata": {
    "ExecuteTime": {
     "end_time": "2024-09-05T08:08:56.765566Z",
     "start_time": "2024-09-05T08:08:56.762810Z"
    }
   },
   "cell_type": "code",
   "source": [
    "# 使用numpy 进行向量加法\n",
    "import numpy as np\n",
    "\n",
    "a = np.array([1, 2])\n",
    "b = np.array([2, 1])\n",
    "r = a + b\n",
    "print(r)"
   ],
   "id": "3ff96a4ae1f2c5dc",
   "outputs": [
    {
     "name": "stdout",
     "output_type": "stream",
     "text": [
      "[3 3]\n"
     ]
    }
   ],
   "execution_count": 9
  },
  {
   "metadata": {
    "ExecuteTime": {
     "end_time": "2024-09-05T08:10:42.650559Z",
     "start_time": "2024-09-05T08:10:42.647367Z"
    }
   },
   "cell_type": "code",
   "source": [
    "# 使用numpy 进行向量数乘\n",
    "c = 2 * r\n",
    "print(c)\n"
   ],
   "id": "4efbba11ae43696b",
   "outputs": [
    {
     "name": "stdout",
     "output_type": "stream",
     "text": [
      "[6 6]\n"
     ]
    }
   ],
   "execution_count": 12
  },
  {
   "metadata": {
    "ExecuteTime": {
     "end_time": "2024-09-05T08:18:46.742490Z",
     "start_time": "2024-09-05T08:18:43.900015Z"
    }
   },
   "cell_type": "code",
   "source": [
    "# 使用pytorch 进行向量加法\n",
    "import torch\n",
    "\n",
    "a = torch.tensor([1, 2])\n",
    "b = torch.tensor([2, 1])\n",
    "r = a + b\n",
    "print(r)"
   ],
   "id": "230cc64291ebb904",
   "outputs": [
    {
     "name": "stdout",
     "output_type": "stream",
     "text": [
      "tensor([3, 3])\n"
     ]
    }
   ],
   "execution_count": 13
  },
  {
   "metadata": {
    "ExecuteTime": {
     "end_time": "2024-09-05T08:22:51.200048Z",
     "start_time": "2024-09-05T08:22:51.193369Z"
    }
   },
   "cell_type": "code",
   "source": [
    "# 使用pytorch 进行向量数乘\n",
    "c = 2 * r"
   ],
   "id": "5f4dc3f2fa06c073",
   "outputs": [],
   "execution_count": 14
  },
  {
   "metadata": {},
   "cell_type": "code",
   "outputs": [],
   "execution_count": null,
   "source": "",
   "id": "2da4ddd4b3407523"
  }
 ],
 "metadata": {
  "kernelspec": {
   "display_name": "Python 3",
   "language": "python",
   "name": "python3"
  },
  "language_info": {
   "codemirror_mode": {
    "name": "ipython",
    "version": 2
   },
   "file_extension": ".py",
   "mimetype": "text/x-python",
   "name": "python",
   "nbconvert_exporter": "python",
   "pygments_lexer": "ipython2",
   "version": "2.7.6"
  }
 },
 "nbformat": 4,
 "nbformat_minor": 5
}
