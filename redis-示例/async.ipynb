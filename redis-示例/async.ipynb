{
 "cells": [
  {
   "metadata": {
    "ExecuteTime": {
     "end_time": "2024-05-01T09:09:48.985915Z",
     "start_time": "2024-05-01T09:09:48.974873Z"
    }
   },
   "cell_type": "code",
   "source": [
    "import asyncio\n",
    "\n",
    "import redis.asyncio as redis\n",
    "\n",
    "STOPWORD = \"STOP\"\n",
    "\n",
    "\n",
    "async def reader(channel: redis.client.PubSub):\n",
    "    while True:\n",
    "        message = await channel.get_message(ignore_subscribe_messages=True, timeout=None)\n",
    "        if message is not None:\n",
    "            print(f\"(Reader) Message Received: {message}\")\n",
    "            if message[\"data\"] == STOPWORD:\n",
    "                print(\"(Reader) STOP\")\n",
    "                break\n",
    "\n",
    "\n",
    "r = redis.from_url(\"redis://localhost?decode_responses=True\")\n",
    "async with r.pubsub() as pubsub:\n",
    "    await pubsub.subscribe(\"channel:1\", \"channel:2\")\n",
    "\n",
    "    future = asyncio.create_task(reader(pubsub))\n",
    "\n",
    "    await r.publish(\"channel:1\", \"Hello2\")\n",
    "    await r.publish(\"channel:2\", \"World\")\n",
    "    await r.publish(\"channel:1\", STOPWORD)\n",
    "\n",
    "    await future"
   ],
   "id": "bd3fb7fedf6b47d2",
   "outputs": [
    {
     "name": "stdout",
     "output_type": "stream",
     "text": [
      "(Reader) Message Received: {'type': 'message', 'pattern': None, 'channel': 'channel:1', 'data': 'Hello2'}\n",
      "(Reader) Message Received: {'type': 'message', 'pattern': None, 'channel': 'channel:2', 'data': 'World'}\n",
      "(Reader) Message Received: {'type': 'message', 'pattern': None, 'channel': 'channel:1', 'data': 'STOP'}\n",
      "(Reader) STOP\n"
     ]
    }
   ],
   "execution_count": 8
  },
  {
   "metadata": {},
   "cell_type": "code",
   "outputs": [],
   "execution_count": null,
   "source": "",
   "id": "61687cae6354975e"
  }
 ],
 "metadata": {
  "kernelspec": {
   "display_name": "Python 3",
   "language": "python",
   "name": "python3"
  },
  "language_info": {
   "codemirror_mode": {
    "name": "ipython",
    "version": 2
   },
   "file_extension": ".py",
   "mimetype": "text/x-python",
   "name": "python",
   "nbconvert_exporter": "python",
   "pygments_lexer": "ipython2",
   "version": "2.7.6"
  }
 },
 "nbformat": 4,
 "nbformat_minor": 5
}
