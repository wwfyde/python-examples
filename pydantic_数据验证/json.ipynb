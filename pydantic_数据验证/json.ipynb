{
 "cells": [
  {
   "cell_type": "code",
   "id": "initial_id",
   "metadata": {
    "collapsed": true,
    "ExecuteTime": {
     "end_time": "2024-10-23T01:55:40.185835Z",
     "start_time": "2024-10-23T01:55:40.180560Z"
    }
   },
   "source": [
    "from pydantic import BaseModel, Field, JsonValue, Json\n",
    "from pydantic.alias_generators import to_pascal\n",
    "\n",
    "\n",
    "class Base(BaseModel):\n",
    "    a: Json[dict]\n",
    "\n",
    "\n",
    "base = Base(a='{\"b\": 33, \"a\": 12, \"c\": \"dd\"}')\n",
    "print(type(base.a))\n",
    "print(base.model_dump_json())"
   ],
   "outputs": [
    {
     "name": "stdout",
     "output_type": "stream",
     "text": [
      "<class 'dict'>\n",
      "{\"a\":{\"b\":33,\"a\":12,\"c\":\"dd\"}}\n"
     ]
    }
   ],
   "execution_count": 17
  },
  {
   "metadata": {},
   "cell_type": "markdown",
   "source": [
    "## 别名Alias\n",
    "\n",
    "> to_pascal"
   ],
   "id": "4a51e991192fe1c2"
  },
  {
   "metadata": {
    "ExecuteTime": {
     "end_time": "2024-10-23T01:55:40.197055Z",
     "start_time": "2024-10-23T01:55:40.192328Z"
    }
   },
   "cell_type": "code",
   "source": [
    "from pydantic import ConfigDict, BaseModel, Field\n",
    "\n",
    "\n",
    "# Use Pydantic v2\n",
    "class User(BaseModel):\n",
    "    model_config = ConfigDict(\n",
    "        alias_generator=to_pascal,\n",
    "        populate_by_name=True,\n",
    "    )\n",
    "    name: str = Field(...)\n",
    "    user_age: int = Field(...)\n",
    "    user_email: str = Field(...)\n",
    "\n",
    "\n",
    "user = User(name='tom', user_age=12, user_email=\"example@gmail.com\")\n",
    "print(user.model_dump_json(by_alias=True))\n",
    "print(user)"
   ],
   "id": "1dc157d2938fc68e",
   "outputs": [
    {
     "name": "stdout",
     "output_type": "stream",
     "text": [
      "{\"Name\":\"tom\",\"UserAge\":12,\"UserEmail\":\"example@gmail.com\"}\n",
      "name='tom' user_age=12 user_email='example@gmail.com'\n"
     ]
    }
   ],
   "execution_count": 18
  },
  {
   "metadata": {
    "ExecuteTime": {
     "end_time": "2024-10-23T01:55:40.267218Z",
     "start_time": "2024-10-23T01:55:40.264804Z"
    }
   },
   "cell_type": "code",
   "source": "",
   "id": "35d0c0c52eb126af",
   "outputs": [],
   "execution_count": null
  }
 ],
 "metadata": {
  "kernelspec": {
   "display_name": "Python 3",
   "language": "python",
   "name": "python3"
  },
  "language_info": {
   "codemirror_mode": {
    "name": "ipython",
    "version": 2
   },
   "file_extension": ".py",
   "mimetype": "text/x-python",
   "name": "python",
   "nbconvert_exporter": "python",
   "pygments_lexer": "ipython2",
   "version": "2.7.6"
  }
 },
 "nbformat": 4,
 "nbformat_minor": 5
}
