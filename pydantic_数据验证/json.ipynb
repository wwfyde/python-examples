{
 "cells": [
  {
   "cell_type": "code",
   "id": "initial_id",
   "metadata": {
    "collapsed": true,
    "ExecuteTime": {
     "end_time": "2024-05-05T10:48:45.322916Z",
     "start_time": "2024-05-05T10:48:45.306085Z"
    }
   },
   "source": [
    "from pydantic import BaseModel, JsonValue, Json\n",
    "\n",
    "\n",
    "class Base(BaseModel):\n",
    "    a: Json[dict]\n",
    "\n",
    "\n",
    "base = Base(a='{\"b\": 33, \"a\": 12, \"c\": \"dd\"}')\n",
    "print(type(base.a))\n",
    "print(base.model_dump_json())"
   ],
   "outputs": [
    {
     "name": "stdout",
     "output_type": "stream",
     "text": [
      "<class 'dict'>\n",
      "{\"a\":{\"b\":33,\"a\":12,\"c\":\"dd\"}}\n"
     ]
    }
   ],
   "execution_count": 6
  },
  {
   "metadata": {},
   "cell_type": "code",
   "outputs": [],
   "execution_count": null,
   "source": "",
   "id": "33d993098a6879f3"
  }
 ],
 "metadata": {
  "kernelspec": {
   "display_name": "Python 3",
   "language": "python",
   "name": "python3"
  },
  "language_info": {
   "codemirror_mode": {
    "name": "ipython",
    "version": 2
   },
   "file_extension": ".py",
   "mimetype": "text/x-python",
   "name": "python",
   "nbconvert_exporter": "python",
   "pygments_lexer": "ipython2",
   "version": "2.7.6"
  }
 },
 "nbformat": 4,
 "nbformat_minor": 5
}
