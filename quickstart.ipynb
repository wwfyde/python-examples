{
 "cells": [
  {
   "cell_type": "code",
   "outputs": [
    {
     "name": "stdout",
     "output_type": "stream",
     "text": [
      "tensor([-0.4693, -0.0405, -0.8971], requires_grad=True)\n",
      "tensor([2.0409, 2.6126, 1.4706])\n"
     ]
    }
   ],
   "source": [
    "import torch\n",
    "\n",
    "# 创建两个张量，并设置requires_grad=True以跟踪它们的计算\n",
    "x = torch.randn(3, requires_grad=True)\n",
    "print(x)\n",
    "y = x + 2\n",
    "\n",
    "# 对y进行操作\n",
    "z = y * y * 2\n",
    "z = z.mean()\n",
    "\n",
    "# 反向传播，计算相对于x的梯度\n",
    "z.backward()\n",
    "\n",
    "# 输出梯度\n",
    "print(x.grad)\n"
   ],
   "metadata": {
    "collapsed": false,
    "ExecuteTime": {
     "end_time": "2024-03-31T14:33:54.067496Z",
     "start_time": "2024-03-31T14:33:54.061151Z"
    }
   },
   "id": "d47f5b33fbc407b4",
   "execution_count": 12
  },
  {
   "cell_type": "code",
   "outputs": [
    {
     "name": "stdout",
     "output_type": "stream",
     "text": [
      "0\n",
      "1\n",
      "2\n",
      "3\n",
      "4\n"
     ]
    }
   ],
   "source": [
    "for i in range(5):\n",
    "    print(i)"
   ],
   "metadata": {
    "collapsed": false,
    "ExecuteTime": {
     "end_time": "2024-03-31T14:32:19.051483Z",
     "start_time": "2024-03-31T14:32:19.046532Z"
    }
   },
   "id": "10c29ad6fd31f27",
   "execution_count": 8
  }
 ],
 "metadata": {
  "kernelspec": {
   "display_name": "Python 3",
   "language": "python",
   "name": "python3"
  },
  "language_info": {
   "codemirror_mode": {
    "name": "ipython",
    "version": 2
   },
   "file_extension": ".py",
   "mimetype": "text/x-python",
   "name": "python",
   "nbconvert_exporter": "python",
   "pygments_lexer": "ipython2",
   "version": "2.7.6"
  }
 },
 "nbformat": 4,
 "nbformat_minor": 5
}
