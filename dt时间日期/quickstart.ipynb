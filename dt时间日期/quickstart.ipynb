{
 "cells": [
  {
   "cell_type": "code",
   "id": "initial_id",
   "metadata": {
    "collapsed": true,
    "ExecuteTime": {
     "end_time": "2024-10-09T02:47:54.850143Z",
     "start_time": "2024-10-09T02:47:54.847713Z"
    }
   },
   "source": "# 时间日期处理\n",
   "outputs": [],
   "execution_count": 1
  },
  {
   "metadata": {
    "ExecuteTime": {
     "end_time": "2024-10-09T02:48:46.523683Z",
     "start_time": "2024-10-09T02:48:46.507922Z"
    }
   },
   "cell_type": "code",
   "source": [
    "# datetime模块\n",
    "from datetime import datetime, timezone\n",
    "\n",
    "# isoformat()方法\n",
    "iso_str = datetime.now().isoformat(timespec='seconds')"
   ],
   "id": "82d2e54df63bb649",
   "outputs": [],
   "execution_count": 2
  },
  {
   "metadata": {},
   "cell_type": "code",
   "outputs": [],
   "execution_count": null,
   "source": "",
   "id": "d37fd830cb5863ef"
  }
 ],
 "metadata": {
  "kernelspec": {
   "display_name": "Python 3",
   "language": "python",
   "name": "python3"
  },
  "language_info": {
   "codemirror_mode": {
    "name": "ipython",
    "version": 2
   },
   "file_extension": ".py",
   "mimetype": "text/x-python",
   "name": "python",
   "nbconvert_exporter": "python",
   "pygments_lexer": "ipython2",
   "version": "2.7.6"
  }
 },
 "nbformat": 4,
 "nbformat_minor": 5
}
