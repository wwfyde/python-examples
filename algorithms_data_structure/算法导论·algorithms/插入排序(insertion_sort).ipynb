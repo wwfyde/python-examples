{
 "cells": [
  {
   "cell_type": "code",
   "execution_count": 9,
   "metadata": {
    "collapsed": true,
    "pycharm": {
     "name": "#%%\n"
    }
   },
   "outputs": [],
   "source": [
    "def insertion_sort(array:list)-> list:\n",
    "    for index in range(1, len(array)):\n",
    "        current_value = array[index]\n",
    "        current_position = index\n",
    "        while current_position > 0 and array[index] > current_value:\n",
    "            array[current_position] = array[current_position-1]\n",
    "            current_position = current_position - 1\n",
    "        array[current_position] = current_value\n",
    "\n",
    "    return array\n",
    "\n"
   ]
  },
  {
   "cell_type": "code",
   "execution_count": 13,
   "outputs": [
    {
     "ename": "IndexError",
     "evalue": "list assignment index out of range",
     "output_type": "error",
     "traceback": [
      "\u001B[0;31m---------------------------------------------------------------------------\u001B[0m",
      "\u001B[0;31mIndexError\u001B[0m                                Traceback (most recent call last)",
      "Input \u001B[0;32mIn [13]\u001B[0m, in \u001B[0;36m<module>\u001B[0;34m\u001B[0m\n\u001B[1;32m      1\u001B[0m my_array \u001B[38;5;241m=\u001B[39m [\u001B[38;5;241m4\u001B[39m, \u001B[38;5;241m22\u001B[39m, \u001B[38;5;241m41\u001B[39m, \u001B[38;5;241m40\u001B[39m, \u001B[38;5;241m27\u001B[39m, \u001B[38;5;241m30\u001B[39m, \u001B[38;5;241m36\u001B[39m, \u001B[38;5;241m16\u001B[39m, \u001B[38;5;241m42\u001B[39m, \u001B[38;5;241m37\u001B[39m, \u001B[38;5;241m14\u001B[39m, \u001B[38;5;241m39\u001B[39m, \u001B[38;5;241m3\u001B[39m, \u001B[38;5;241m6\u001B[39m, \u001B[38;5;241m34\u001B[39m, \u001B[38;5;241m9\u001B[39m, \u001B[38;5;241m21\u001B[39m, \u001B[38;5;241m2\u001B[39m, \u001B[38;5;241m29\u001B[39m, \u001B[38;5;241m47\u001B[39m]\n\u001B[0;32m----> 2\u001B[0m \u001B[43minsertion_sort\u001B[49m\u001B[43m(\u001B[49m\u001B[43mmy_array\u001B[49m\u001B[43m)\u001B[49m\n\u001B[1;32m      3\u001B[0m \u001B[38;5;28mprint\u001B[39m(\u001B[38;5;124m\"\u001B[39m\u001B[38;5;124msorted array:\u001B[39m\u001B[38;5;124m\"\u001B[39m, my_array)\n",
      "Input \u001B[0;32mIn [9]\u001B[0m, in \u001B[0;36minsertion_sort\u001B[0;34m(array)\u001B[0m\n\u001B[1;32m      6\u001B[0m         array[current_position\u001B[38;5;241m+\u001B[39m\u001B[38;5;241m1\u001B[39m] \u001B[38;5;241m=\u001B[39m array[current_position]\n\u001B[1;32m      7\u001B[0m         current_position \u001B[38;5;241m=\u001B[39m current_position \u001B[38;5;241m-\u001B[39m \u001B[38;5;241m1\u001B[39m\n\u001B[0;32m----> 8\u001B[0m     array[current_position\u001B[38;5;241m+\u001B[39m\u001B[38;5;241m1\u001B[39m] \u001B[38;5;241m=\u001B[39m current_value\n\u001B[1;32m     10\u001B[0m \u001B[38;5;28;01mreturn\u001B[39;00m array\n",
      "\u001B[0;31mIndexError\u001B[0m: list assignment index out of range"
     ]
    }
   ],
   "source": [
    "my_array = [4, 22, 41, 40, 27, 30, 36, 16, 42, 37, 14, 39, 3, 6, 34, 9, 21, 2, 29, 47]\n",
    "insertion_sort(my_array)\n",
    "print(\"sorted array:\", my_array)"
   ],
   "metadata": {
    "collapsed": false,
    "pycharm": {
     "name": "#%%\n"
    }
   }
  },
  {
   "cell_type": "code",
   "execution_count": 12,
   "outputs": [],
   "source": [],
   "metadata": {
    "collapsed": false,
    "pycharm": {
     "name": "#%%\n"
    }
   }
  }
 ],
 "metadata": {
  "kernelspec": {
   "display_name": "Python 3",
   "language": "python",
   "name": "python3"
  },
  "language_info": {
   "codemirror_mode": {
    "name": "ipython",
    "version": 2
   },
   "file_extension": ".py",
   "mimetype": "text/x-python",
   "name": "python",
   "nbconvert_exporter": "python",
   "pygments_lexer": "ipython2",
   "version": "2.7.6"
  }
 },
 "nbformat": 4,
 "nbformat_minor": 0
}