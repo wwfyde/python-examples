{
 "cells": [
  {
   "cell_type": "code",
   "execution_count": 4,
   "id": "fd1090f3-9e5f-41d0-a6d3-b63b5b9775eb",
   "metadata": {
    "tags": [],
    "ExecuteTime": {
     "end_time": "2023-11-22T04:11:36.710553Z",
     "start_time": "2023-11-22T04:11:36.699502Z"
    }
   },
   "outputs": [],
   "source": [
    "import gradio as gr\n"
   ]
  },
  {
   "cell_type": "code",
   "execution_count": 6,
   "outputs": [
    {
     "ename": "ModuleNotFoundError",
     "evalue": "No module named 'systemd'",
     "output_type": "error",
     "traceback": [
      "\u001B[0;31m---------------------------------------------------------------------------\u001B[0m",
      "\u001B[0;31mModuleNotFoundError\u001B[0m                       Traceback (most recent call last)",
      "Cell \u001B[0;32mIn[6], line 1\u001B[0m\n\u001B[0;32m----> 1\u001B[0m \u001B[38;5;28;01mfrom\u001B[39;00m \u001B[38;5;21;01msystemd\u001B[39;00m \u001B[38;5;28;01mimport\u001B[39;00m journal\n",
      "\u001B[0;31mModuleNotFoundError\u001B[0m: No module named 'systemd'"
     ]
    }
   ],
   "source": "with gr.row",
   "metadata": {
    "collapsed": false,
    "ExecuteTime": {
     "end_time": "2023-11-22T04:33:51.987728Z",
     "start_time": "2023-11-22T04:33:51.966157Z"
    }
   },
   "id": "e7c13d0de679a607"
  }
 ],
 "metadata": {
  "kernelspec": {
   "display_name": "Python 3 (ipykernel)",
   "language": "python",
   "name": "python3"
  },
  "language_info": {
   "codemirror_mode": {
    "name": "ipython",
    "version": 3
   },
   "file_extension": ".py",
   "mimetype": "text/x-python",
   "name": "python",
   "nbconvert_exporter": "python",
   "pygments_lexer": "ipython3",
   "version": "3.11.5"
  }
 },
 "nbformat": 4,
 "nbformat_minor": 5
}
