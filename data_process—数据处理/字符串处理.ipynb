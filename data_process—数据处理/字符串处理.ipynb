{
 "cells": [
  {
   "metadata": {},
   "cell_type": "markdown",
   "source": "# 字符串处理\n",
   "id": "c52a958f72072d34"
  },
  {
   "metadata": {},
   "cell_type": "markdown",
   "source": "## 反转字符串",
   "id": "3675d2834bb74310"
  },
  {
   "metadata": {
    "ExecuteTime": {
     "end_time": "2025-07-13T10:16:54.399388Z",
     "start_time": "2025-07-13T10:16:54.395905Z"
    }
   },
   "cell_type": "code",
   "source": [
    "# 反转字符串\n",
    "s = \"somestring\"\n",
    "l = [i for i in s]\n",
    "times = len(s) // 2\n",
    "for i in range(times):\n",
    "    l[i], l[-i - 1] = l[-i - 1], l[i]\n",
    "print(l)\n"
   ],
   "id": "459e0624f8cfa9d4",
   "outputs": [
    {
     "name": "stdout",
     "output_type": "stream",
     "text": [
      "['g', 'n', 'i', 'r', 't', 's', 'e', 'm', 'o', 's']\n"
     ]
    }
   ],
   "execution_count": 10
  },
  {
   "metadata": {
    "ExecuteTime": {
     "end_time": "2025-07-13T10:16:52.705581Z",
     "start_time": "2025-07-13T10:16:52.702878Z"
    }
   },
   "cell_type": "code",
   "source": [
    "# 使用切片\n",
    "s = \"somestring\"\n",
    "l = s[::-1]\n"
   ],
   "id": "776594aceb88fc82",
   "outputs": [],
   "execution_count": 9
  },
  {
   "metadata": {
    "ExecuteTime": {
     "end_time": "2025-07-13T10:18:18.604590Z",
     "start_time": "2025-07-13T10:18:18.601897Z"
    }
   },
   "cell_type": "code",
   "source": [
    "# 使用reversed函数\n",
    "s = \"somestring\"\n",
    "l = ''.join(reversed(s))"
   ],
   "id": "b748d79be342721d",
   "outputs": [],
   "execution_count": 11
  }
 ],
 "metadata": {
  "kernelspec": {
   "display_name": "Python 3",
   "language": "python",
   "name": "python3"
  },
  "language_info": {
   "codemirror_mode": {
    "name": "ipython",
    "version": 2
   },
   "file_extension": ".py",
   "mimetype": "text/x-python",
   "name": "python",
   "nbconvert_exporter": "python",
   "pygments_lexer": "ipython2",
   "version": "2.7.6"
  }
 },
 "nbformat": 4,
 "nbformat_minor": 5
}
